{
  "cells": [
    {
      "cell_type": "code",
      "execution_count": null,
      "metadata": {
        "id": "VykMsrzAJHZy"
      },
      "outputs": [],
      "source": [
        "from google.colab import drive\n",
        "drive.mount('/content/drive')"
      ]
    },
    {
      "cell_type": "code",
      "execution_count": null,
      "metadata": {
        "id": "xVxw2SO9JfRT"
      },
      "outputs": [],
      "source": [
        "%cd /content/drive/MyDrive"
      ]
    },
    {
      "cell_type": "code",
      "execution_count": null,
      "metadata": {
        "id": "gZUethLG5qva"
      },
      "outputs": [],
      "source": [
        "!git clone https://github.com/NVlabs/verilog-eval/tree/release/1.0.0\n",
        "!pip install -e verilog-eval\n",
        "!apt-get update\n",
        "!apt-get install -y iverilog"
      ]
    },
    {
      "cell_type": "code",
      "execution_count": null,
      "metadata": {
        "id": "e6il4eBeKIiQ"
      },
      "outputs": [],
      "source": [
        "%cd /content/drive/MyDrive/verilog-eval/"
      ]
    },
    {
      "cell_type": "markdown",
      "metadata": {
        "id": "K9Hc9z2oJ9Ol"
      },
      "source": [
        "#Example of Data Loading for Llama and other Text Completion Models"
      ]
    },
    {
      "cell_type": "code",
      "execution_count": null,
      "metadata": {
        "id": "sxTlZNUSAXi9"
      },
      "outputs": [],
      "source": [
        "import json\n",
        "with open('RTLCoder-v1.1-verilog-eval-Human.jsonl','r+') as f:\n",
        "  data = [json.loads(line) for line in f]\n",
        "  for item in reversed(data):\n",
        "    curr = item['completion'].split(\"endmodule\",1)[0]+\"endmodule\"\n",
        "    item['completion'] = curr\n",
        "  f.seek(0)\n",
        "  json.dump(data, f, indent=4)\n",
        "  f.truncate()\n",
        "# write each JSON line back to a new file\n",
        "with open('test.jsonl','w',encoding='utf8') as f:\n",
        "    for item in data:\n",
        "        json.dump(item,f)\n",
        "        print(file=f) # add a newline"
      ]
    },
    {
      "cell_type": "code",
      "execution_count": null,
      "metadata": {
        "id": "dNhEzsslXIrw"
      },
      "outputs": [],
      "source": [
        "!evaluate_functional_correctness ./test.jsonl --problem_file=/content/drive/MyDrive/verilog-eval/data/VerilogEval_Human.jsonl"
      ]
    },
    {
      "cell_type": "markdown",
      "metadata": {
        "id": "SGRGom3zKBVI"
      },
      "source": [
        "#Example of Data Loading for Qwen Models"
      ]
    },
    {
      "cell_type": "code",
      "execution_count": null,
      "metadata": {
        "id": "g3n0gtlBXIlO"
      },
      "outputs": [],
      "source": [
        "import json\n",
        "with open('Qwen-2.5-7b-verilog-eval-Human.jsonl','r+') as f:\n",
        "  data = [json.loads(line) for line in f]\n",
        "  for item in reversed(data):\n",
        "    try:\n",
        "      curr = item['completion'].split(\"```verilog\\n\")[1].split(\"endmodule\",1)[0]+\"endmodule\"\n",
        "      try:\n",
        "        curr = item['completion'].split(\");\\n\\n\")[1].split(\"endmodule\",1)[0]+\"endmodule\"\n",
        "        try:\n",
        "          curr = item['completion'].split(\"\\n);\\n\")[1].split(\"endmodule\",1)[0]+\"endmodule\"\n",
        "        except:\n",
        "          pass\n",
        "      except:\n",
        "        pass\n",
        "    except:\n",
        "      try:\n",
        "        curr = item['completion'].split(\"// Your code here\\n\")[1].split(\"endmodule\",1)[0]+\"endmodule\"\n",
        "      except:\n",
        "        curr = item['completion'].split(\"endmodule\",1)[0]+\"endmodule\"\n",
        "    item['completion'] = curr\n",
        "  f.seek(0)\n",
        "  json.dump(data, f, indent=4)\n",
        "  f.truncate()\n",
        "# write each JSON line back to a new file\n",
        "with open('test.jsonl','w',encoding='utf8') as f:\n",
        "    for item in data:\n",
        "        json.dump(item,f)\n",
        "        print(file=f) # add a newline"
      ]
    },
    {
      "cell_type": "code",
      "execution_count": null,
      "metadata": {
        "id": "0P_niw6GKFbk"
      },
      "outputs": [],
      "source": [
        "!evaluate_functional_correctness ./test.jsonl --problem_file=/content/drive/MyDrive/verilog-eval/data/VerilogEval_Human.jsonl"
      ]
    },
    {
      "cell_type": "markdown",
      "source": [
        "#Example of Data Loading for Closed-Source Models"
      ],
      "metadata": {
        "id": "trE0_ysEtW10"
      }
    },
    {
      "cell_type": "code",
      "source": [
        "import json\n",
        "with open('gpt-4o-verilog-eval-Human.jsonl','r+') as f:\n",
        "  data = [json.loads(line) for line in f]\n",
        "  for item in reversed(data):\n",
        "    try:\n",
        "          curr = item['completion'].split(\"\\n);\\n\")[1].split(\"endmodule\",1)[0]+\"endmodule\"\n",
        "    except:\n",
        "      try:\n",
        "        curr = item['completion'].split(\"```verilog\\n\")[1].split(\"endmodule\",1)[0]+\"endmodule\"\n",
        "      except:\n",
        "        try:\n",
        "          curr = item['completion'].split(\"// Your code here\\n\")[1].split(\"endmodule\",1)[0]+\"endmodule\"\n",
        "        except:\n",
        "         curr = item['completion'].split(\"endmodule\",1)[0]+\"endmodule\"\n",
        "    item['completion'] = curr\n",
        "  f.seek(0)\n",
        "  json.dump(data, f, indent=4)\n",
        "  f.truncate()\n",
        "# write each JSON line back to a new file\n",
        "with open('test.jsonl','w',encoding='utf8') as f:\n",
        "    for item in data:\n",
        "        json.dump(item,f)\n",
        "        print(file=f) # add a newline"
      ],
      "metadata": {
        "id": "PN8SCjVZtWDC"
      },
      "execution_count": null,
      "outputs": []
    },
    {
      "cell_type": "code",
      "source": [
        "!evaluate_functional_correctness ./test.jsonl --problem_file=/content/drive/MyDrive/verilog-eval/data/VerilogEval_Human.jsonl"
      ],
      "metadata": {
        "id": "h0V2nqwxNxyA"
      },
      "execution_count": null,
      "outputs": []
    }
  ],
  "metadata": {
    "colab": {
      "provenance": []
    },
    "kernelspec": {
      "display_name": "Python 3",
      "name": "python3"
    },
    "language_info": {
      "name": "python"
    }
  },
  "nbformat": 4,
  "nbformat_minor": 0
}